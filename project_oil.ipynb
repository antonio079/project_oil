{
 "cells": [
  {
   "cell_type": "markdown",
   "id": "42151cff",
   "metadata": {},
   "source": [
    "# Selección de ubicaciones de nuevos pozos de petróleo con machine learning en OilyGiant"
   ]
  },
  {
   "cell_type": "markdown",
   "id": "807a7ed4",
   "metadata": {},
   "source": [
    "## Introducción\n",
    "\n"
   ]
  },
  {
   "cell_type": "markdown",
   "id": "0501a784",
   "metadata": {},
   "source": [
    "En este proyecto, se busca realizar un análisis para determinar la viabilidad de 200 nuevos pozos petroleros y se necesita identificar las mejores ubicaciones en términos de rentabilidad. Para lograrlo, se analizarán los parámetros de los pozos existentes, se crearán modelos de regresión para predecir las reservas en los nuevos pozos y se elegirá la región con mayor rentabilidad potencial utilizando técnicas como el bootstrapping.\n",
    "\n",
    "Para llevarlo a cabo, se utilizarán 3 datasets diferentes, cada uno correspondiente a una región. Es necesario considerar que el presupuesto para los 200 nuevos pozos es de 100 millones de dólares. Cada barril genera 4.5 USD de ingresos y el ingreso que genera una unidad de producto son 4500 USD, el cual es el volumen de reservas expresado en miles de barriles."
   ]
  },
  {
   "cell_type": "markdown",
   "id": "db32c6df",
   "metadata": {},
   "source": [
    "## Inicialización "
   ]
  },
  {
   "cell_type": "code",
   "execution_count": 85,
   "id": "1e952d8b",
   "metadata": {},
   "outputs": [],
   "source": [
    "# Cargar todas las librerías\n",
    "import matplotlib.pyplot as plt \n",
    "import pandas as pd\n",
    "import numpy as np\n",
    "import matplotlib as mpl\n",
    "import math\n",
    "import seaborn as sns\n",
    "import plotly.express as px\n",
    "from scipy import stats as st\n",
    "from sklearn.tree import DecisionTreeClassifier\n",
    "from sklearn.ensemble import RandomForestClassifier\n",
    "from sklearn.linear_model import LogisticRegression\n",
    "from sklearn.model_selection import train_test_split\n",
    "from sklearn.linear_model import LinearRegression\n",
    "from sklearn.metrics import accuracy_score\n",
    "from sklearn.metrics import f1_score\n",
    "from sklearn.metrics import recall_score\n",
    "from sklearn.metrics import confusion_matrix\n",
    "from sklearn.metrics import roc_auc_score\n",
    "plt.style.use('bmh')\n",
    "from sklearn.metrics import r2_score\n",
    "from sklearn.metrics import mean_absolute_error\n",
    "from sklearn.metrics import mean_squared_error"
   ]
  },
  {
   "cell_type": "markdown",
   "id": "8fedcfc6",
   "metadata": {},
   "source": [
    "<div class=\"alert alert-block alert-success\">\n",
    "    <b>Comentarios del Revisor</b> <a class=\"tocSkip\"></a><br>\n",
    "    Excelente trabajo en tu sección de imports de Python. Es muy importante seguir buenas prácticas de codificación en este aspecto, y veo que has sido muy cuidadoso al elegir las bibliotecas que se necesitan y la forma en que las has importado. El uso correcto de import y from en Python puede mejorar la legibilidad del código y evitar conflictos de nombres. Continúa con el buen trabajo! </div>"
   ]
  },
  {
   "cell_type": "code",
   "execution_count": 86,
   "id": "47602054",
   "metadata": {},
   "outputs": [],
   "source": [
    "plt.rc(\"axes\", linewidth=0.5)\n",
    "plt.rc(\"lines\", linewidth=1.5, markersize=4,markeredgewidth=0.25,markeredgecolor='k')"
   ]
  },
  {
   "cell_type": "markdown",
   "id": "4c24ec9f",
   "metadata": {},
   "source": [
    "## Importación y verificación datos <a id='datos'></a>"
   ]
  },
  {
   "cell_type": "code",
   "execution_count": 87,
   "id": "356e64b7",
   "metadata": {},
   "outputs": [],
   "source": [
    "# Datasets de exploración geológica\n",
    "df_0 = pd.read_csv(\"https://practicum-content.s3.us-west-1.amazonaws.com/datasets/geo_data_0.csv\")\n",
    "df_1 = pd.read_csv(\"https://practicum-content.s3.us-west-1.amazonaws.com/datasets/geo_data_1.csv\")\n",
    "df_2 = pd.read_csv(\"https://practicum-content.s3.us-west-1.amazonaws.com/datasets/geo_data_2.csv\")"
   ]
  },
  {
   "cell_type": "code",
   "execution_count": 88,
   "id": "43d43716",
   "metadata": {},
   "outputs": [
    {
     "data": {
      "text/html": [
       "<div>\n",
       "<style scoped>\n",
       "    .dataframe tbody tr th:only-of-type {\n",
       "        vertical-align: middle;\n",
       "    }\n",
       "\n",
       "    .dataframe tbody tr th {\n",
       "        vertical-align: top;\n",
       "    }\n",
       "\n",
       "    .dataframe thead th {\n",
       "        text-align: right;\n",
       "    }\n",
       "</style>\n",
       "<table border=\"1\" class=\"dataframe\">\n",
       "  <thead>\n",
       "    <tr style=\"text-align: right;\">\n",
       "      <th></th>\n",
       "      <th>id</th>\n",
       "      <th>f0</th>\n",
       "      <th>f1</th>\n",
       "      <th>f2</th>\n",
       "      <th>product</th>\n",
       "    </tr>\n",
       "  </thead>\n",
       "  <tbody>\n",
       "    <tr>\n",
       "      <th>0</th>\n",
       "      <td>txEyH</td>\n",
       "      <td>0.705745</td>\n",
       "      <td>-0.497823</td>\n",
       "      <td>1.221170</td>\n",
       "      <td>105.280062</td>\n",
       "    </tr>\n",
       "    <tr>\n",
       "      <th>1</th>\n",
       "      <td>2acmU</td>\n",
       "      <td>1.334711</td>\n",
       "      <td>-0.340164</td>\n",
       "      <td>4.365080</td>\n",
       "      <td>73.037750</td>\n",
       "    </tr>\n",
       "    <tr>\n",
       "      <th>2</th>\n",
       "      <td>409Wp</td>\n",
       "      <td>1.022732</td>\n",
       "      <td>0.151990</td>\n",
       "      <td>1.419926</td>\n",
       "      <td>85.265647</td>\n",
       "    </tr>\n",
       "  </tbody>\n",
       "</table>\n",
       "</div>"
      ],
      "text/plain": [
       "      id        f0        f1        f2     product\n",
       "0  txEyH  0.705745 -0.497823  1.221170  105.280062\n",
       "1  2acmU  1.334711 -0.340164  4.365080   73.037750\n",
       "2  409Wp  1.022732  0.151990  1.419926   85.265647"
      ]
     },
     "execution_count": 88,
     "metadata": {},
     "output_type": "execute_result"
    }
   ],
   "source": [
    "# Exploración rápida de los datos\n",
    "df_0.head(3)"
   ]
  },
  {
   "cell_type": "code",
   "execution_count": 89,
   "id": "2e658518",
   "metadata": {},
   "outputs": [
    {
     "name": "stdout",
     "output_type": "stream",
     "text": [
      "<class 'pandas.core.frame.DataFrame'>\n",
      "RangeIndex: 100000 entries, 0 to 99999\n",
      "Data columns (total 5 columns):\n",
      " #   Column   Non-Null Count   Dtype  \n",
      "---  ------   --------------   -----  \n",
      " 0   id       100000 non-null  object \n",
      " 1   f0       100000 non-null  float64\n",
      " 2   f1       100000 non-null  float64\n",
      " 3   f2       100000 non-null  float64\n",
      " 4   product  100000 non-null  float64\n",
      "dtypes: float64(4), object(1)\n",
      "memory usage: 3.8+ MB\n",
      "\n",
      "El Datasets de exploración geológica de la region uno tiene 0 filas duplicadas.\n",
      "_______________________________________________________\n"
     ]
    }
   ],
   "source": [
    "df_0.info()\n",
    "duplicates = df_0.duplicated().sum()\n",
    "print(\"\")\n",
    "print('El Datasets de exploración geológica de la region uno tiene {} filas duplicadas.'.format(duplicates))\n",
    "print('_______________________________________________________')"
   ]
  },
  {
   "cell_type": "code",
   "execution_count": 90,
   "id": "b2bfd72b",
   "metadata": {},
   "outputs": [
    {
     "name": "stdout",
     "output_type": "stream",
     "text": [
      "<class 'pandas.core.frame.DataFrame'>\n",
      "RangeIndex: 100000 entries, 0 to 99999\n",
      "Data columns (total 5 columns):\n",
      " #   Column   Non-Null Count   Dtype  \n",
      "---  ------   --------------   -----  \n",
      " 0   id       100000 non-null  object \n",
      " 1   f0       100000 non-null  float64\n",
      " 2   f1       100000 non-null  float64\n",
      " 3   f2       100000 non-null  float64\n",
      " 4   product  100000 non-null  float64\n",
      "dtypes: float64(4), object(1)\n",
      "memory usage: 3.8+ MB\n",
      "\n",
      "El Datasets de exploración geológica de la region dos tiene 0 filas duplicadas.\n",
      "_______________________________________________________\n"
     ]
    }
   ],
   "source": [
    "df_1.info()\n",
    "duplicates = df_1.duplicated().sum()\n",
    "print(\"\")\n",
    "print('El Datasets de exploración geológica de la region dos tiene {} filas duplicadas.'.format(duplicates))\n",
    "print('_______________________________________________________')"
   ]
  },
  {
   "cell_type": "code",
   "execution_count": 91,
   "id": "e0f8b15c",
   "metadata": {},
   "outputs": [
    {
     "name": "stdout",
     "output_type": "stream",
     "text": [
      "<class 'pandas.core.frame.DataFrame'>\n",
      "RangeIndex: 100000 entries, 0 to 99999\n",
      "Data columns (total 5 columns):\n",
      " #   Column   Non-Null Count   Dtype  \n",
      "---  ------   --------------   -----  \n",
      " 0   id       100000 non-null  object \n",
      " 1   f0       100000 non-null  float64\n",
      " 2   f1       100000 non-null  float64\n",
      " 3   f2       100000 non-null  float64\n",
      " 4   product  100000 non-null  float64\n",
      "dtypes: float64(4), object(1)\n",
      "memory usage: 3.8+ MB\n",
      "\n",
      "El Datasets de exploración geológica de la region tres tiene 0 filas duplicadas.\n",
      "_______________________________________________________\n"
     ]
    }
   ],
   "source": [
    "df_2.info()\n",
    "duplicates = df_2.duplicated().sum()\n",
    "print(\"\")\n",
    "print('El Datasets de exploración geológica de la region tres tiene {} filas duplicadas.'.format(duplicates))\n",
    "print('_______________________________________________________')"
   ]
  },
  {
   "cell_type": "markdown",
   "id": "e3cf9e08",
   "metadata": {},
   "source": [
    "## Preparación de datos "
   ]
  },
  {
   "cell_type": "markdown",
   "id": "41b1f790",
   "metadata": {},
   "source": [
    "En este trabajo, se debe usar únicamente la regresión lineal para el entrenamiento del modelo, por lo que los valores tipo string deben ser descartados del dataset, ya que este algoritmo solo acepta valores numéricos. Además, se requiere que los estudios que se llevarán a cabo cuenten con 500 puntos, de los cuales se seleccionarán los mejores 200 para el cálculo de las ganancias, es decir, aquellos con la columna \"product\" más alta. Sin embargo, para analizar 500 predicciones, necesitaríamos un total de 2000 puntos en total, de los cuales utilizaríamos 1500 para entrenamiento y 500 para predicciones."
   ]
  },
  {
   "cell_type": "code",
   "execution_count": 92,
   "id": "67c4ff2d",
   "metadata": {},
   "outputs": [],
   "source": [
    "# Dataset 0 \n",
    "df_0 = df_0.drop(['id'],axis=1)\n",
    "# Dataset 1\n",
    "df_1 = df_1.drop(['id'],axis=1)\n",
    "# Dataset 2\n",
    "df_2 = df_2.drop(['id'],axis=1)"
   ]
  },
  {
   "cell_type": "code",
   "execution_count": 93,
   "id": "12b5a6f0",
   "metadata": {},
   "outputs": [],
   "source": [
    "# Selecionando los 2000 puntos\n",
    "state = np.random.RandomState(12345)\n",
    "df_0 = df_0.sample(n=2000, replace=True, random_state=state)\n",
    "df_1 = df_1.sample(n=2000, replace=True, random_state=state)\n",
    "df_2 = df_2.sample(n=2000, replace=True, random_state=state)"
   ]
  },
  {
   "cell_type": "markdown",
   "id": "619de5e9",
   "metadata": {},
   "source": [
    "## División de datos en entrenamiento y validacion dat, proporción de 75:25"
   ]
  },
  {
   "cell_type": "code",
   "execution_count": 94,
   "id": "309225cb",
   "metadata": {},
   "outputs": [],
   "source": [
    "df_train, df_valid = train_test_split(df_0, test_size=0.25, random_state=0)\n",
    "\n",
    "target_train_0 = df_train['product']\n",
    "features_train_0 = df_train.drop(['product'],axis=1)\n",
    "\n",
    "target_valid_0 = df_valid['product']\n",
    "features_valid_0 = df_valid.drop(['product'],axis=1)"
   ]
  },
  {
   "cell_type": "markdown",
   "id": "f527288f",
   "metadata": {},
   "source": [
    "## Entrenamiento del modelo 0 y predicciones para el conjunto de validación."
   ]
  },
  {
   "cell_type": "code",
   "execution_count": 95,
   "id": "69082d19",
   "metadata": {},
   "outputs": [],
   "source": [
    "model_0 = LinearRegression()\n",
    "model_0.fit(features_train_0, target_train_0)\n",
    "predictions_valid_0 = model_0.predict(features_valid_0)"
   ]
  },
  {
   "cell_type": "markdown",
   "id": "ed5ac109",
   "metadata": {},
   "source": [
    "## Volumen medio de reservas predicho y RMSE del modelo 0"
   ]
  },
  {
   "cell_type": "code",
   "execution_count": 96,
   "id": "629c0719",
   "metadata": {},
   "outputs": [
    {
     "name": "stdout",
     "output_type": "stream",
     "text": [
      "Volume medio de reservas 92.24647249438928\n",
      "RMSE = 37.62437325540697\n"
     ]
    }
   ],
   "source": [
    "print(\"Volume medio de reservas\",np.average(predictions_valid_0))\n",
    "print(\"RMSE =\",mean_squared_error(target_valid_0,predictions_valid_0)**(0.5))"
   ]
  },
  {
   "cell_type": "code",
   "execution_count": 114,
   "id": "ac8f9abe",
   "metadata": {},
   "outputs": [
    {
     "data": {
      "image/png": "[encoded data removed]",
      "text/plain": [
       "<Figure size 640x480 with 1 Axes>"
      ]
     },
     "metadata": {},
     "output_type": "display_data"
    }
   ],
   "source": [
    "pd.DataFrame(predictions_valid_0).plot(title='Predictions Model 0',\n",
    "                                      kind='hist', edgecolor='black',\n",
    "                                      legend=False)\n",
    "plt.show()"
   ]
  },
  {
   "cell_type": "markdown",
   "id": "4a2cd230",
   "metadata": {},
   "source": [
    "## Funciones de preparación de modelo y predicciones"
   ]
  },
  {
   "cell_type": "code",
   "execution_count": 98,
   "id": "ec8c843b",
   "metadata": {},
   "outputs": [],
   "source": [
    "def division_datos(df):\n",
    "    df_train, df_train = train_test_split(df, test_size=0.25, random_state=0)\n",
    "    \n",
    "    target_train = df_train['product']\n",
    "    features_train = df_train.drop(['product'],axis=1)\n",
    "    \n",
    "    target_valid = df_valid['product']\n",
    "    features_valid = df_valid.drop(['product'],axis=1)\n",
    "    \n",
    "    return(target_train,features_train,target_valid,features_valid)\n",
    "\n",
    "def model_traning_predictions(features_train,target_train,features_valid):\n",
    "    model = LinearRegression()\n",
    "    model.fit(features_train, target_train)    \n",
    "    predictions_valid = model.predict(features_valid)\n",
    "    return(predictions_valid)"
   ]
  },
  {
   "cell_type": "markdown",
   "id": "59c9949f",
   "metadata": {},
   "source": [
    "## Resultados del dataset 1"
   ]
  },
  {
   "cell_type": "code",
   "execution_count": 99,
   "id": "d6adb2eb",
   "metadata": {},
   "outputs": [
    {
     "name": "stdout",
     "output_type": "stream",
     "text": [
      "Volume medio de reservas 64.00651687166295\n",
      "RMSE = 79.75347020157898\n"
     ]
    }
   ],
   "source": [
    "target_train_1,features_train_1,target_valid_1,features_valid_1 = division_datos(df_1)\n",
    "predictions_valid_1 = model_traning_predictions(features_train_1,target_train_1,features_valid_1)\n",
    "\n",
    "print(\"Volume medio de reservas\",np.average(predictions_valid_1))\n",
    "print(\"RMSE =\",mean_squared_error(target_valid_1,predictions_valid_1)**(0.5))"
   ]
  },
  {
   "cell_type": "code",
   "execution_count": 116,
   "id": "fb16a0e3",
   "metadata": {},
   "outputs": [
    {
     "data": {
      "image/png": "[encoded data removed]",
      "text/plain": [
       "<Figure size 640x480 with 1 Axes>"
      ]
     },
     "metadata": {},
     "output_type": "display_data"
    }
   ],
   "source": [
    "pd.DataFrame(predictions_valid_1).plot(title='Predictions Model 1',\n",
    "                                      kind='hist', edgecolor='black',\n",
    "                                      legend=False)\n",
    "plt.show()"
   ]
  },
  {
   "cell_type": "markdown",
   "id": "68557a0f",
   "metadata": {},
   "source": [
    "## Resultados del dataset 2"
   ]
  },
  {
   "cell_type": "code",
   "execution_count": 101,
   "id": "5329f23f",
   "metadata": {},
   "outputs": [
    {
     "name": "stdout",
     "output_type": "stream",
     "text": [
      "Volume medio de reservas 96.20269872562307\n",
      "RMSE = 38.496117887791115\n"
     ]
    }
   ],
   "source": [
    "target_train_2,features_train_2,target_valid_2,features_valid_2 = division_datos(df_2)\n",
    "predictions_valid_2 = model_traning_predictions(features_train_2,target_train_2,features_valid_2)\n",
    "\n",
    "print(\"Volume medio de reservas\",np.average(predictions_valid_2))\n",
    "print(\"RMSE =\",mean_squared_error(target_valid_2,predictions_valid_2)**(0.5))"
   ]
  },
  {
   "cell_type": "code",
   "execution_count": 117,
   "id": "a5b183b6",
   "metadata": {},
   "outputs": [
    {
     "data": {
      "image/png": "[encoded data removed]",
      "text/plain": [
       "<Figure size 640x480 with 1 Axes>"
      ]
     },
     "metadata": {},
     "output_type": "display_data"
    }
   ],
   "source": [
    "pd.DataFrame(predictions_valid_2).plot(title='Predictions Model 2',\n",
    "                                      kind='hist', edgecolor='black',\n",
    "                                      legend=False)\n",
    "plt.show()"
   ]
  },
  {
   "cell_type": "markdown",
   "id": "72373b03",
   "metadata": {},
   "source": [
    "## Análisis de resultados"
   ]
  },
  {
   "cell_type": "markdown",
   "id": "54de866d",
   "metadata": {},
   "source": [
    "En esta sección del proyecto, hemos entrenado tres modelos de regresión utilizando tres datasets distintos. Hemos mostrado el volumen medio predicho por cada modelo y el root-mean-square deviation (RMSE). \n",
    "\n",
    "* Modelo 0: Media = 87.94, RMSE = 36.64\n",
    "* Modelo 1: Media = 59.86, RMSE = 84.67\n",
    "* Modelo 2: Media = 95.81, RMSE = 36.83\n",
    "\n",
    "De los tres modelos, el Modelo 1 es el que tiene el mayor RMSE. Además, es el único modelo que predice valores negativos para el conjunto de datos de validación."
   ]
  },
  {
   "cell_type": "markdown",
   "id": "a9245fd3",
   "metadata": {},
   "source": [
    "## Prepara el cálculo de ganancias"
   ]
  },
  {
   "cell_type": "markdown",
   "id": "4ae4a272",
   "metadata": {},
   "source": [
    "Para que el proyecto sea rentable, se busca que cada pozo pueda producir al menos 0.5 millones de dólares, equivalente a 111.1 unidades, dado que la inversión es de 100 millones por 200 pozos petrolíferos. El promedio que arrojan los modelos de cada región son de 87.94, 59.86 y 95.81. Por lo tanto, considerando 200 pozos con desempeño promedio, la inversión no sería redituable. Sin embargo, en cada región existen pozos con un desempeño mucho mejor que el promedio. Si se seleccionan los mejores pozos, probablemente la inversión sí sería rentable."
   ]
  },
  {
   "cell_type": "markdown",
   "id": "b261da24",
   "metadata": {},
   "source": [
    "##  Función para calcular la ganancia de un conjunto de pozos de petróleo seleccionados y modela las predicciones"
   ]
  },
  {
   "cell_type": "markdown",
   "id": "4ae3af4f",
   "metadata": {},
   "source": [
    "En esta sección se seleccionarán los 200 mejores pozos para calcular las posibles ganancias. Para ello, se emplearán los datos de cada región y se filtrarán para hacer el análisis solo con los que tengan la mayor cantidad de producto."
   ]
  },
  {
   "cell_type": "markdown",
   "id": "4b4445ee",
   "metadata": {},
   "source": [
    "## 200 pozos con los valores de predicción más altos de cada una de las 3 regiones"
   ]
  },
  {
   "cell_type": "code",
   "execution_count": 103,
   "id": "d7df3b25",
   "metadata": {},
   "outputs": [],
   "source": [
    "region_0_200 = np.sort(predictions_valid_0)[-200:]\n",
    "region_1_200 = np.sort(predictions_valid_1)[-200:]\n",
    "region_2_200 = np.sort(predictions_valid_2)[-200:]"
   ]
  },
  {
   "cell_type": "markdown",
   "id": "a9bd8b2e",
   "metadata": {},
   "source": [
    "## Ganancia potencial de los 200 pozos principales por región "
   ]
  },
  {
   "cell_type": "code",
   "execution_count": 104,
   "id": "afbe05a2",
   "metadata": {},
   "outputs": [],
   "source": [
    "# Función para el cálculo de la ganancia\n",
    "def ganancias_potenciales(predict_dataset):\n",
    "    total_product = predict_dataset.sum()\n",
    "    mean_product = predict_dataset.mean()\n",
    "    earnings = total_product*4500\n",
    "    \n",
    "    return total_product, mean_product, earnings"
   ]
  },
  {
   "cell_type": "markdown",
   "id": "eb98db8f",
   "metadata": {},
   "source": [
    "### Región 0"
   ]
  },
  {
   "cell_type": "code",
   "execution_count": 105,
   "id": "ae0cb0f6",
   "metadata": {},
   "outputs": [
    {
     "name": "stdout",
     "output_type": "stream",
     "text": [
      "Ganancias del dataset\n",
      " \n",
      "Promedio de unidades de petróleo = 112.73851528569698\n",
      "Total de unidades de petróleo = 22547.703057139395\n",
      "Total ingreso por en la región 0 = 101464663.75712729\n"
     ]
    }
   ],
   "source": [
    "# Ganancias \n",
    "total, mean_product, earnings = ganancias_potenciales(region_0_200)\n",
    "\n",
    "print(\"Ganancias del dataset\")\n",
    "print(\" \")\n",
    "print(\"Promedio de unidades de petróleo =\", mean_product)\n",
    "print(\"Total de unidades de petróleo =\", total)\n",
    "print(\"Total ingreso por en la región 0 =\", earnings)"
   ]
  },
  {
   "cell_type": "markdown",
   "id": "589e8e14",
   "metadata": {},
   "source": [
    "### Región 1"
   ]
  },
  {
   "cell_type": "code",
   "execution_count": 106,
   "id": "09ca88c3",
   "metadata": {},
   "outputs": [
    {
     "name": "stdout",
     "output_type": "stream",
     "text": [
      "Ganancias del dataset\n",
      " \n",
      "Promedio de unidades de petróleo = 146.64536121762\n",
      "Total de unidades de petróleo = 29329.072243524\n",
      "Total ingreso por en la región 1 = 131980825.095858\n"
     ]
    }
   ],
   "source": [
    "# Ganancias \n",
    "total, mean_product, earnings = ganancias_potenciales(region_1_200)\n",
    "\n",
    "print(\"Ganancias del dataset\")\n",
    "print(\" \")\n",
    "print(\"Promedio de unidades de petróleo =\", mean_product)\n",
    "print(\"Total de unidades de petróleo =\", total)\n",
    "print(\"Total ingreso por en la región 1 =\", earnings)"
   ]
  },
  {
   "cell_type": "markdown",
   "id": "73795629",
   "metadata": {},
   "source": [
    "### Región 2"
   ]
  },
  {
   "cell_type": "code",
   "execution_count": 107,
   "id": "4bf8eb2d",
   "metadata": {},
   "outputs": [
    {
     "name": "stdout",
     "output_type": "stream",
     "text": [
      "Ganancias del dataset\n",
      " \n",
      "Promedio de unidades de petróleo = 114.87547363832432\n",
      "Total de unidades de petróleo = 22975.094727664866\n",
      "Total ingreso por en la región 2 = 103387926.27449189\n"
     ]
    }
   ],
   "source": [
    "# Ganancias dataset\n",
    "total, mean_product, earnings = ganancias_potenciales(region_2_200)\n",
    "\n",
    "print(\"Ganancias del dataset\")\n",
    "print(\" \")\n",
    "print(\"Promedio de unidades de petróleo =\", mean_product)\n",
    "print(\"Total de unidades de petróleo =\", total)\n",
    "print(\"Total ingreso por en la región 2 =\", earnings)"
   ]
  },
  {
   "cell_type": "markdown",
   "id": "a4b440da",
   "metadata": {},
   "source": [
    "Considerando únicamente la producción promedio, los 200 mejores pozos podrían ser rentables. Sin embargo, todavía existen otros aspectos a considerar, por lo que no se puede llegar a una conclusión con los datos que tenemos en este momento."
   ]
  },
  {
   "cell_type": "markdown",
   "id": "d7155161",
   "metadata": {},
   "source": [
    "## Calculo riesgos y ganancias para cada región"
   ]
  },
  {
   "cell_type": "markdown",
   "id": "efa8688d",
   "metadata": {},
   "source": [
    "### Distribución de los beneficios"
   ]
  },
  {
   "cell_type": "code",
   "execution_count": 108,
   "id": "8f89c6bf",
   "metadata": {},
   "outputs": [],
   "source": [
    "# Técnica del bootstrapping con 1000 muestras para hallar la distribución de los beneficios.\n",
    "\n",
    "def bootstrapping(region_series):\n",
    "    state = np.random.RandomState(12345)\n",
    "    values = []\n",
    "    for i in range(1000):\n",
    "        subsample = region_series.sample(frac=1, replace=True, random_state=state)\n",
    "        values.append(subsample.mean())\n",
    "        \n",
    "    values = pd.Series(values)\n",
    "    lower = values.quantile(0.025)\n",
    "    upper = values.quantile(0.975)\n",
    "    \n",
    "    return values, lower, upper"
   ]
  },
  {
   "cell_type": "markdown",
   "id": "1d6b7cc0",
   "metadata": {},
   "source": [
    "### Beneficio promedio, el intervalo de confianza del 95%"
   ]
  },
  {
   "cell_type": "code",
   "execution_count": 109,
   "id": "09da472b",
   "metadata": {},
   "outputs": [
    {
     "name": "stdout",
     "output_type": "stream",
     "text": [
      "Limite inferior 110.97779540814102\n",
      "Valor medio 112.77749167833616\n",
      "Limite superior 114.75208295343384\n",
      "\n",
      "Se puede decir que la región 0 entregará entre 110.97779540814102 y 114.75208295343384 unidades de petróleo con una confiaza del 95%\n"
     ]
    }
   ],
   "source": [
    "# Intervalo de confianza región 0\n",
    "region0_series = pd.Series(region_0_200)\n",
    "\n",
    "values, lower, upper = bootstrapping(region0_series)\n",
    "\n",
    "print(\"Limite inferior\", lower)\n",
    "print(\"Valor medio\",values.mean())\n",
    "print(\"Limite superior\", upper)\n",
    "print(\"\")\n",
    "print(\"Se puede decir que la región 0 entregará entre {} y {} unidades de petróleo con una confiaza del 95%\".format(lower,upper ))"
   ]
  },
  {
   "cell_type": "code",
   "execution_count": 110,
   "id": "11f002e6",
   "metadata": {},
   "outputs": [
    {
     "name": "stdout",
     "output_type": "stream",
     "text": [
      "Limite inferior 139.90009005396712\n",
      "Valor medio 146.782066479445\n",
      "Limite superior 154.26814074341806\n",
      "\n",
      "Se puede decir que la región 0 entregará entre 139.90009005396712 y 154.26814074341806 unidades de petróleo con una confiaza del 95%\n"
     ]
    }
   ],
   "source": [
    "# Intervalo de confianza región 1\n",
    "region1_series = pd.Series(region_1_200)\n",
    "\n",
    "values, lower, upper = bootstrapping(region1_series)\n",
    "\n",
    "print(\"Limite inferior\", lower)\n",
    "print(\"Valor medio\",values.mean())\n",
    "print(\"Limite superior\", upper)\n",
    "print(\"\")\n",
    "print(\"Se puede decir que la región 0 entregará entre {} y {} unidades de petróleo con una confiaza del 95%\".format(lower,upper ))"
   ]
  },
  {
   "cell_type": "code",
   "execution_count": 118,
   "id": "aeddec16",
   "metadata": {},
   "outputs": [
    {
     "name": "stdout",
     "output_type": "stream",
     "text": [
      "Limite inferior 113.34630433339339\n",
      "Valor medio 114.90699263017409\n",
      "Limite superior 116.60653432852317\n",
      "\n",
      "Se puede decir que la región 0 entregará entre 113.34630433339339 y 116.60653432852317 unidades de petróleo con una confiaza del 95%\n"
     ]
    }
   ],
   "source": [
    "# Intervalo de confianza región 2\n",
    "region2_series = pd.Series(region_2_200)\n",
    "\n",
    "values, lower, upper = bootstrapping(region2_series)\n",
    "\n",
    "print(\"Limite inferior\", lower)\n",
    "print(\"Valor medio\",values.mean())\n",
    "print(\"Limite superior\", upper)\n",
    "print(\"\")\n",
    "print(\"Se puede decir que la región 0 entregará entre {} y {} unidades de petróleo con una confiaza del 95%\".format(lower,upper ))"
   ]
  },
  {
   "cell_type": "markdown",
   "id": "75599c24",
   "metadata": {},
   "source": [
    "El intervalo de confianza de los beneficios se calculó en base a los 200 mejores pozos."
   ]
  },
  {
   "cell_type": "markdown",
   "id": "119d716a",
   "metadata": {},
   "source": [
    "### Riesgos de pérdida (ganancia negativa)"
   ]
  },
  {
   "cell_type": "code",
   "execution_count": 112,
   "id": "be7d48fd",
   "metadata": {},
   "outputs": [],
   "source": [
    "def risk_evaluation(prediction):\n",
    "    state = np.random.RandomState(12345)\n",
    "    values = []\n",
    "    count = 0\n",
    "    for i in range(1000):\n",
    "        subsample = pd.Series(prediction).sample(n=1, replace=True, random_state=state)\n",
    "        values.append(subsample.unique()[0])\n",
    "\n",
    "        if subsample.unique()[0] < 0:\n",
    "            count += 1\n",
    "\n",
    "    pvalue = 1. * count / 1000\n",
    "    return pvalue"
   ]
  },
  {
   "cell_type": "code",
   "execution_count": 113,
   "id": "93f29e6f",
   "metadata": {},
   "outputs": [
    {
     "name": "stdout",
     "output_type": "stream",
     "text": [
      "Probabilidad de encontrar valores negativos en la región 0 0.0\n",
      "Probabilidad de encontrar valores negativos en la región 1 0.234\n",
      "Probabilidad de encontrar valores negativos en la región 2 0.0\n",
      "\n",
      "Probabilidad de encontrar valores negativos en la región 0 en los 200 mejores pozos 0.0\n",
      "Probabilidad de encontrar valores negativos en la región 1 en los 200 mejores pozos 0.0\n",
      "Probabilidad de encontrar valores negativos en la región 2 en los 200 mejores pozos 0.0\n"
     ]
    }
   ],
   "source": [
    "# Análisis de todas las predicciones\n",
    "\n",
    "# Región 0 \n",
    "pvalue = risk_evaluation(predictions_valid_0)\n",
    "print(\"Probabilidad de encontrar valores negativos en la región 0 {}\".format(pvalue)) \n",
    "\n",
    "# Región 1\n",
    "pvalue = risk_evaluation(predictions_valid_1)\n",
    "print(\"Probabilidad de encontrar valores negativos en la región 1 {}\".format(pvalue))\n",
    "\n",
    "# Región 2\n",
    "pvalue = risk_evaluation(predictions_valid_2)\n",
    "print(\"Probabilidad de encontrar valores negativos en la región 2 {}\".format(pvalue))\n",
    "\n",
    "print(\"\")\n",
    "\n",
    "# Análisis en las 200 mejores ubicaciones\n",
    "\n",
    "# Región 0 \n",
    "pvalue = risk_evaluation(region_0_200)\n",
    "print(\"Probabilidad de encontrar valores negativos en la región 0 en los 200 mejores pozos {}\".format(pvalue)) \n",
    "\n",
    "# Región 1\n",
    "pvalue = risk_evaluation(region_1_200)\n",
    "print(\"Probabilidad de encontrar valores negativos en la región 1 en los 200 mejores pozos {}\".format(pvalue))\n",
    "\n",
    "# Región 2\n",
    "pvalue = risk_evaluation(region_2_200)\n",
    "print(\"Probabilidad de encontrar valores negativos en la región 2 en los 200 mejores pozos {}\".format(pvalue))\n"
   ]
  },
  {
   "cell_type": "markdown",
   "id": "068cf6f5",
   "metadata": {},
   "source": [
    "## Análisis de resultados"
   ]
  },
  {
   "cell_type": "markdown",
   "id": "8703ee60",
   "metadata": {},
   "source": [
    "En esta sección, podemos ver las ganancias potenciales de los mejores 200 pozos de cada región, así como el riesgo de incurrir en pérdidas en la operación en cada región. Cabe mencionar que el cálculo del riesgo de incurrir en pérdidas se realizó con todos los datos de la predicción de nuestro modelo y tambien en lass 200 mejores ubicaciones para poner pozos. Los resultados se pueden resumir de la siguiente manera:\n",
    "\n",
    "Beneficio promedio con intervalo de confianza:\n",
    "\n",
    "* Región 0: 110.97 < 112.77 < 114.75\n",
    "* Región 1: 139.90 < 146.78 < 154.26\n",
    "* Región 2: 113.34 < 114.90 < 116.60\n",
    "\n",
    "Probabilidad de incurrir en ganancia negativa:\n",
    "\n",
    "* Región 0: 0.0%\n",
    "* Región 1: 0.23%\n",
    "* Región 2: 0.0%\n",
    "\n",
    "Probabilidad de incurrir en ganancia negativa en los 200 mejores pozos:\n",
    "\n",
    "* Región 0: 0.0%\n",
    "* Región 1: 0.0%\n",
    "* Región 2: 0.0%\n"
   ]
  },
  {
   "cell_type": "markdown",
   "id": "3dbb170b",
   "metadata": {},
   "source": [
    "## Conclusiones\n"
   ]
  },
  {
   "cell_type": "markdown",
   "id": "ebef8718",
   "metadata": {},
   "source": [
    "En este trabajo se ha realizado un análisis para examinar la viabilidad de un proyecto que consiste en abrir 200 pozos con un coste total de 100 millones de dólares, lo que se traduce en 111.1 unidades de petróleo por pozo. Según nuestros datos, todas las regiones tienen un valor promedio mayor que 111.1 unidades, por lo que las 3 regiones podrían ser candidatas. Sin embargo, la región 0 debería ser descartada ya que tiene el valor promedio más bajo. Aunque la región 1 es la que tiene el promedio más alto, esta región es la que tiene un error (RMSE) más grande. A pesar de que ciertos pozos pueden incurrir en ganancias negativas (pérdidas), decidiría poner los pozos en esta región, ya que en la inversión se dice que a mayor riesgo, mayor retorno. Por último, la región 2 parece ser robusta con pozos productivos y su promedio supera las 111.1 unidades de petróleo. Sin embargo, esta región es algo conservadora, y por eso yo no la seleccionarías."
   ]
  }
 ],
 "metadata": {
  "kernelspec": {
   "display_name": "Python 3 (ipykernel)",
   "language": "python",
   "name": "python3"
  },
  "language_info": {
   "codemirror_mode": {
    "name": "ipython",
    "version": 3
   },
   "file_extension": ".py",
   "mimetype": "text/x-python",
   "name": "python",
   "nbconvert_exporter": "python",
   "pygments_lexer": "ipython3",
   "version": "3.11.5"
  },
  "toc": {
   "base_numbering": 1,
   "nav_menu": {},
   "number_sections": true,
   "sideBar": true,
   "skip_h1_title": true,
   "title_cell": "Table of Contents",
   "title_sidebar": "Contents",
   "toc_cell": false,
   "toc_position": {},
   "toc_section_display": true,
   "toc_window_display": false
  }
 },
 "nbformat": 4,
 "nbformat_minor": 5
}
